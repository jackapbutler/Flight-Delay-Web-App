{
 "cells": [
  {
   "cell_type": "code",
   "execution_count": 1,
   "metadata": {
    "collapsed": true
   },
   "outputs": [],
   "source": [
    "import os\n",
    "import glob\n",
    "import pandas as pd\n",
    "import numpy as np\n",
    "\n",
    "import time\n",
    "from datetime import datetime"
   ]
  },
  {
   "cell_type": "code",
   "execution_count": 2,
   "metadata": {},
   "outputs": [
    {
     "data": {
      "text/html": [
       "<div>\n",
       "<style>\n",
       "    .dataframe thead tr:only-child th {\n",
       "        text-align: right;\n",
       "    }\n",
       "\n",
       "    .dataframe thead th {\n",
       "        text-align: left;\n",
       "    }\n",
       "\n",
       "    .dataframe tbody tr th {\n",
       "        vertical-align: top;\n",
       "    }\n",
       "</style>\n",
       "<table border=\"1\" class=\"dataframe\">\n",
       "  <thead>\n",
       "    <tr style=\"text-align: right;\">\n",
       "      <th></th>\n",
       "      <th>Unnamed: 0</th>\n",
       "      <th>Unnamed: 1</th>\n",
       "      <th>Airline</th>\n",
       "      <th>Flight No.</th>\n",
       "      <th>Unnamed: 4</th>\n",
       "      <th>Status</th>\n",
       "      <th></th>\n",
       "    </tr>\n",
       "  </thead>\n",
       "  <tbody>\n",
       "    <tr>\n",
       "      <th>400</th>\n",
       "      <td>T1</td>\n",
       "      <td>London-LHR</td>\n",
       "      <td>British Airways</td>\n",
       "      <td>BA839</td>\n",
       "      <td>26 May 20:35</td>\n",
       "      <td>20:35</td>\n",
       "      <td>NaN</td>\n",
       "    </tr>\n",
       "  </tbody>\n",
       "</table>\n",
       "</div>"
      ],
      "text/plain": [
       "    Unnamed: 0  Unnamed: 1          Airline Flight No.    Unnamed: 4 Status  \\\n",
       "400         T1  London-LHR  British Airways      BA839  26 May 20:35  20:35   \n",
       "\n",
       "          \n",
       "400  NaN  "
      ]
     },
     "execution_count": 2,
     "metadata": {},
     "output_type": "execute_result"
    }
   ],
   "source": [
    "dep_df, = pd.read_html(\"https://www.dublinairport.com/flight-information/live-departures\", header=0)\n",
    "dep_df.tail(1)"
   ]
  },
  {
   "cell_type": "code",
   "execution_count": 3,
   "metadata": {},
   "outputs": [
    {
     "data": {
      "text/html": [
       "<div>\n",
       "<style>\n",
       "    .dataframe thead tr:only-child th {\n",
       "        text-align: right;\n",
       "    }\n",
       "\n",
       "    .dataframe thead th {\n",
       "        text-align: left;\n",
       "    }\n",
       "\n",
       "    .dataframe tbody tr th {\n",
       "        vertical-align: top;\n",
       "    }\n",
       "</style>\n",
       "<table border=\"1\" class=\"dataframe\">\n",
       "  <thead>\n",
       "    <tr style=\"text-align: right;\">\n",
       "      <th></th>\n",
       "      <th>Terminal</th>\n",
       "      <th>Destination</th>\n",
       "      <th>Airline</th>\n",
       "      <th>Flight No.</th>\n",
       "      <th>Scheduled DateTime</th>\n",
       "      <th>Month</th>\n",
       "      <th>Scheduled Timedelta</th>\n",
       "      <th>Weekday</th>\n",
       "      <th>Real Departure Timedelta</th>\n",
       "      <th>Minute Delay</th>\n",
       "      <th>Delay Type</th>\n",
       "    </tr>\n",
       "  </thead>\n",
       "  <tbody>\n",
       "    <tr>\n",
       "      <th>61</th>\n",
       "      <td>T1</td>\n",
       "      <td>Bristol</td>\n",
       "      <td>Ryanair</td>\n",
       "      <td>FR508</td>\n",
       "      <td>2019-05-25 19:40</td>\n",
       "      <td>May</td>\n",
       "      <td>19:40:00</td>\n",
       "      <td>Saturday</td>\n",
       "      <td>19:57:00</td>\n",
       "      <td>17.0</td>\n",
       "      <td>Short</td>\n",
       "    </tr>\n",
       "  </tbody>\n",
       "</table>\n",
       "</div>"
      ],
      "text/plain": [
       "   Terminal Destination  Airline Flight No. Scheduled DateTime Month  \\\n",
       "61       T1     Bristol  Ryanair      FR508   2019-05-25 19:40   May   \n",
       "\n",
       "   Scheduled Timedelta   Weekday Real Departure Timedelta  Minute Delay  \\\n",
       "61            19:40:00  Saturday                 19:57:00          17.0   \n",
       "\n",
       "   Delay Type  \n",
       "61      Short  "
      ]
     },
     "execution_count": 3,
     "metadata": {},
     "output_type": "execute_result"
    }
   ],
   "source": [
    "# Initial Cleaning\n",
    "dep1_df = dep_df.dropna()\n",
    "dep1_df = dep1_df.drop('Status', axis=1)\n",
    "dep1_df.columns = ['Terminal', 'Destination', 'Airline', 'Flight No.', 'Scheduled DateTime', 'Actual Departure']\n",
    "\n",
    "# Month Column\n",
    "new2 = dep1_df[\"Scheduled DateTime\"].str.split(\" \", n = 2, expand = True) \n",
    "dep1_df[\"Month\"]= new2[1] \n",
    "\n",
    "# Splitting Datetime column apart to get Scheduled Time\n",
    "new1 = dep1_df[\"Scheduled DateTime\"].str.split(\" \", n = 2, expand = True) \n",
    "dep1_df[\"Scheduled Timedelta\"]= new1[2] \n",
    "\n",
    "# Change to 2019\n",
    "dep1_df['Scheduled DateTime'] = pd.to_datetime(dep1_df[\"Scheduled DateTime\"], format='%d %B %H:%M')\n",
    "dep1_df['Scheduled DateTime'] = dep1_df['Scheduled DateTime'].apply(lambda dt: dt.replace(year=2019))\n",
    "\n",
    "# Get Week day column\n",
    "dep1_df['Weekday'] = pd.to_datetime(dep1_df[\"Scheduled DateTime\"], format='%d %B %H:%M').dt.weekday_name\n",
    "\n",
    "# Splitting Word from last column \n",
    "new = dep1_df[\"Actual Departure\"].str.split(\" \", n = 1, expand = True) \n",
    "dep1_df[\"Word\"]= new[0] \n",
    "dep1_df[\"Real Departure Timedelta\"]= new[1] \n",
    "dep1_df = dep1_df.drop('Word', axis=1)\n",
    "dep1_df = dep1_df.drop('Actual Departure', axis=1)\n",
    "\n",
    "# Get Formatted DateTime\n",
    "dep1_df['Scheduled DateTime'] = dep1_df['Scheduled DateTime'].dt.strftime('%Y-%m-%d %H:%M')\n",
    "\n",
    "# Convert Time Columns to Time Type\n",
    "dep1_df['Scheduled Timedelta'] = pd.to_timedelta(dep1_df['Scheduled Timedelta']+':00')\n",
    "dep1_df['Real Departure Timedelta'] = pd.to_timedelta(dep1_df['Real Departure Timedelta']+':00')\n",
    "\n",
    "# Minutes Delayed Column and Remove Early Flights\n",
    "dep1_df['Minute Delay'] = pd.to_timedelta(dep1_df['Real Departure Timedelta']-dep1_df['Scheduled Timedelta']).dt.seconds/60.0\n",
    "dep1_df = dep1_df.drop(dep1_df[dep1_df['Minute Delay'] > 1000].index)\n",
    "\n",
    "# Create Delay Type Column\n",
    "dep1_df['Delay Type'] = np.where(dep1_df['Minute Delay'] >= 10, 'Short', 'None')\n",
    "dep1_df['Delay Type'] = np.where(dep1_df['Minute Delay'] >= 20, 'Medium', dep1_df['Delay Type'])\n",
    "dep1_df['Delay Type'] = np.where(dep1_df['Minute Delay'] >= 30, 'Long', dep1_df['Delay Type'])\n",
    "\n",
    "\n",
    "dep1_df = dep1_df.dropna()\n",
    "dep1_df.tail(1)"
   ]
  },
  {
   "cell_type": "code",
   "execution_count": 4,
   "metadata": {
    "collapsed": true
   },
   "outputs": [],
   "source": [
    "os.chdir(\"C:\\\\Users\\\\rg654th\\\\Downloads\\\\Flight Delay\\\\Data\")"
   ]
  },
  {
   "cell_type": "code",
   "execution_count": 5,
   "metadata": {
    "collapsed": true
   },
   "outputs": [],
   "source": [
    "# Change Directory\n",
    "dep1_df.to_csv(r\"C:\\Users\\rg654th\\Downloads\\Flight Delay\\Data\\Departures_random_hour.csv\", \n",
    "               index=False)"
   ]
  },
  {
   "cell_type": "code",
   "execution_count": 6,
   "metadata": {
    "collapsed": true
   },
   "outputs": [],
   "source": [
    "# Combine Files\n",
    "extension = 'csv'\n",
    "all_filenames = [i for i in glob.glob('*.{}'.format(extension))]\n",
    "combined_csv = pd.DataFrame(np.concatenate([pd.read_csv(f).values for f in all_filenames]), columns=dep1_df.columns)\n",
    "combined_csv2 = combined_csv.drop_duplicates()\n",
    "combined_csv2.to_csv(\"Historical Data.csv\", index=False, encoding='utf-8-sig')"
   ]
  },
  {
   "cell_type": "code",
   "execution_count": 7,
   "metadata": {
    "collapsed": true
   },
   "outputs": [],
   "source": [
    "# Delete random hour file\n",
    "os.remove(\"Departures_random_hour.csv\")"
   ]
  },
  {
   "cell_type": "code",
   "execution_count": 8,
   "metadata": {},
   "outputs": [
    {
     "data": {
      "text/plain": [
       "'Historical Raw Data Scraping Above'"
      ]
     },
     "execution_count": 8,
     "metadata": {},
     "output_type": "execute_result"
    }
   ],
   "source": [
    "#  #  #  #  #  #  #  #  #  #  #  #  #  #  #  #  #  #  #  #  #  #  #  #  #  #  #  #  #  #  #  #  #  #  #  #  #  #  #  #  #  #  #\n",
    "\"Historical Raw Data Scraping Above\""
   ]
  },
  {
   "cell_type": "code",
   "execution_count": 9,
   "metadata": {},
   "outputs": [
    {
     "data": {
      "text/plain": [
       "'New Clean Data Below'"
      ]
     },
     "execution_count": 9,
     "metadata": {},
     "output_type": "execute_result"
    }
   ],
   "source": [
    "\"New Clean Data Below\"\n",
    "#  #  #  #  #  #  #  #  #  #  #  #  #  #  #  #  #  #  #  #  #  #  #  #  #  #  #  #  #  #  #  #  #  #  #  #  #  #  #  #  #  #  #  "
   ]
  },
  {
   "cell_type": "code",
   "execution_count": 10,
   "metadata": {
    "collapsed": true
   },
   "outputs": [],
   "source": [
    "dataframe = pd.read_csv(r\"C:\\Users\\rg654th\\Downloads\\Flight Delay\\Data\\Historical Data.csv\", parse_dates=[0], infer_datetime_format=True)"
   ]
  },
  {
   "cell_type": "code",
   "execution_count": 11,
   "metadata": {
    "collapsed": true
   },
   "outputs": [],
   "source": [
    "# Converting data types & Drop Duplicates\n",
    "dataframe['Scheduled Timedelta'] = pd.to_timedelta(dataframe['Scheduled Timedelta'])\n",
    "dataframe['Real Departure Timedelta'] = pd.to_timedelta(dataframe['Real Departure Timedelta'])\n",
    "dataframe['Scheduled DateTime'] = pd.to_datetime(dataframe['Scheduled DateTime'], infer_datetime_format=True)\n",
    "dataframe['Minute Delay'] = pd.to_numeric(dataframe['Minute Delay'], downcast='integer')\n",
    "\n",
    "dataframe = dataframe.drop_duplicates()\n",
    "dataframe.to_csv(\"Historical Data.csv\", index = False)"
   ]
  },
  {
   "cell_type": "code",
   "execution_count": 12,
   "metadata": {
    "collapsed": true
   },
   "outputs": [],
   "source": [
    "dataframe = pd.read_csv(r\"C:\\Users\\rg654th\\Downloads\\Flight Delay\\Data\\Historical Data.csv\", parse_dates=[0], infer_datetime_format=True)"
   ]
  },
  {
   "cell_type": "code",
   "execution_count": 13,
   "metadata": {
    "collapsed": true
   },
   "outputs": [],
   "source": [
    "# Converting data types \n",
    "dataframe['Scheduled Timedelta'] = pd.to_timedelta(dataframe['Scheduled Timedelta'])\n",
    "dataframe['Real Departure Timedelta'] = pd.to_timedelta(dataframe['Real Departure Timedelta'])\n",
    "dataframe['Scheduled DateTime'] = pd.to_datetime(dataframe['Scheduled DateTime'], infer_datetime_format=True)\n",
    "dataframe['Minute Delay'] = pd.to_numeric(dataframe['Minute Delay'], downcast='integer')"
   ]
  },
  {
   "cell_type": "code",
   "execution_count": 14,
   "metadata": {
    "collapsed": true
   },
   "outputs": [],
   "source": [
    "# New Columns\n",
    "dataframe['Scheduled Date'] = dataframe['Scheduled DateTime'].dt.strftime('%d-%m-%Y')\n",
    "dataframe['Scheduled Time'] = dataframe['Scheduled DateTime'].dt.strftime('%H:%M')\n",
    "dataframe['Scheduled DateTime'] = pd.to_datetime(dataframe['Scheduled DateTime'], infer_datetime_format=True)\n",
    "\n",
    "dataframe = dataframe.dropna()"
   ]
  },
  {
   "cell_type": "code",
   "execution_count": 15,
   "metadata": {
    "collapsed": true
   },
   "outputs": [],
   "source": [
    "# format Real Departure Time\n",
    "today = datetime.now().strftime('%Y-%m-%d %H:%M:%S')\n",
    "year_now = datetime.now().strftime('%Y')\n",
    "year_now = int(year_now)\n",
    "\n",
    "month_now = datetime.now().strftime('%m')\n",
    "month_now = int(month_now)\n",
    "\n",
    "day_now = datetime.now().strftime('%d')\n",
    "day_now = int(day_now)\n",
    "\n",
    "dataframe['Real Departure Time'] = pd.to_datetime(dataframe['Real Departure Timedelta'])\n",
    "dataframe['Real Departure Time'] = dataframe['Real Departure Time'].apply(lambda dt: dt.replace(year=year_now, month=month_now, day=day_now, second=0, microsecond=0, nanosecond=0))\n",
    "\n",
    "dataframe['Real Departure Time'] = dataframe['Real Departure Time'].dt.strftime('%H:%M')"
   ]
  },
  {
   "cell_type": "code",
   "execution_count": 16,
   "metadata": {
    "collapsed": true
   },
   "outputs": [],
   "source": [
    "# dropping columns/rows\n",
    "dataframe = dataframe.drop(['Scheduled Timedelta', 'Real Departure Timedelta'], axis=1)\n"
   ]
  },
  {
   "cell_type": "code",
   "execution_count": 17,
   "metadata": {},
   "outputs": [
    {
     "data": {
      "text/html": [
       "<div>\n",
       "<style>\n",
       "    .dataframe thead tr:only-child th {\n",
       "        text-align: right;\n",
       "    }\n",
       "\n",
       "    .dataframe thead th {\n",
       "        text-align: left;\n",
       "    }\n",
       "\n",
       "    .dataframe tbody tr th {\n",
       "        vertical-align: top;\n",
       "    }\n",
       "</style>\n",
       "<table border=\"1\" class=\"dataframe\">\n",
       "  <thead>\n",
       "    <tr style=\"text-align: right;\">\n",
       "      <th></th>\n",
       "      <th>Terminal</th>\n",
       "      <th>Destination</th>\n",
       "      <th>Airline</th>\n",
       "      <th>Flight No.</th>\n",
       "      <th>Scheduled DateTime</th>\n",
       "      <th>Month</th>\n",
       "      <th>Weekday</th>\n",
       "      <th>Minute Delay</th>\n",
       "      <th>Delay Type</th>\n",
       "      <th>Scheduled Date</th>\n",
       "      <th>Scheduled Time</th>\n",
       "      <th>Real Departure Time</th>\n",
       "    </tr>\n",
       "  </thead>\n",
       "  <tbody>\n",
       "    <tr>\n",
       "      <th>0</th>\n",
       "      <td>T2</td>\n",
       "      <td>Birmingham</td>\n",
       "      <td>Aer Lingus</td>\n",
       "      <td>EI3274</td>\n",
       "      <td>2019-05-25 16:45:00</td>\n",
       "      <td>May</td>\n",
       "      <td>Saturday</td>\n",
       "      <td>24</td>\n",
       "      <td>Medium</td>\n",
       "      <td>25-05-2019</td>\n",
       "      <td>16:45</td>\n",
       "      <td>17:09</td>\n",
       "    </tr>\n",
       "  </tbody>\n",
       "</table>\n",
       "</div>"
      ],
      "text/plain": [
       "  Terminal Destination     Airline Flight No.  Scheduled DateTime Month  \\\n",
       "0       T2  Birmingham  Aer Lingus     EI3274 2019-05-25 16:45:00   May   \n",
       "\n",
       "    Weekday  Minute Delay Delay Type Scheduled Date Scheduled Time  \\\n",
       "0  Saturday            24     Medium     25-05-2019          16:45   \n",
       "\n",
       "  Real Departure Time  \n",
       "0               17:09  "
      ]
     },
     "execution_count": 17,
     "metadata": {},
     "output_type": "execute_result"
    }
   ],
   "source": [
    "dataframe.head(1)"
   ]
  },
  {
   "cell_type": "code",
   "execution_count": 18,
   "metadata": {
    "collapsed": true
   },
   "outputs": [],
   "source": [
    "# Save Csv\n",
    "os.chdir(\"C:\\\\Users\\\\rg654th\\\\Downloads\\\\Flight Delay\\\\Clean Data\")\n",
    "dataframe.to_csv(\"Clean Historical Data.csv\", index = False)"
   ]
  },
  {
   "cell_type": "code",
   "execution_count": null,
   "metadata": {
    "collapsed": true
   },
   "outputs": [],
   "source": []
  },
  {
   "cell_type": "code",
   "execution_count": null,
   "metadata": {
    "collapsed": true
   },
   "outputs": [],
   "source": []
  }
 ],
 "metadata": {
  "kernelspec": {
   "display_name": "Python 3",
   "language": "python",
   "name": "python3"
  },
  "language_info": {
   "codemirror_mode": {
    "name": "ipython",
    "version": 3
   },
   "file_extension": ".py",
   "mimetype": "text/x-python",
   "name": "python",
   "nbconvert_exporter": "python",
   "pygments_lexer": "ipython3",
   "version": "3.5.4"
  }
 },
 "nbformat": 4,
 "nbformat_minor": 2
}
